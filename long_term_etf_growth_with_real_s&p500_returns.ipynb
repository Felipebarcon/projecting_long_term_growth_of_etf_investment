{
 "cells": [
  {
   "cell_type": "code",
   "id": "initial_id",
   "metadata": {
    "collapsed": true,
    "ExecuteTime": {
     "end_time": "2025-03-18T09:35:38.573215Z",
     "start_time": "2025-03-18T09:35:38.494217Z"
    }
   },
   "source": [
    "import numpy as np\n",
    "import pandas as pd\n",
    "import matplotlib.pyplot as plt\n",
    "import seaborn as sns\n",
    "from matplotlib.ticker import FuncFormatter\n",
    "from IPython.display import display, Markdown\n",
    "import warnings\n",
    "from datetime import datetime\n",
    "from pandas_datareader import data as pdr"
   ],
   "outputs": [],
   "execution_count": 1
  },
  {
   "metadata": {
    "ExecuteTime": {
     "end_time": "2025-03-18T09:35:49.202782Z",
     "start_time": "2025-03-18T09:35:49.200153Z"
    }
   },
   "cell_type": "code",
   "source": [
    "# Configuration pour de meilleurs graphiques\n",
    "plt.style.use('seaborn-v0_8-whitegrid')\n",
    "sns.set_palette(\"colorblind\")\n",
    "plt.rcParams['figure.figsize'] = (14, 8)\n",
    "plt.rcParams['font.size'] = 12\n",
    "warnings.filterwarnings('ignore')"
   ],
   "id": "6409d906e8afc89d",
   "outputs": [],
   "execution_count": 2
  },
  {
   "metadata": {
    "ExecuteTime": {
     "end_time": "2025-03-18T09:35:57.970994Z",
     "start_time": "2025-03-18T09:35:57.968141Z"
    }
   },
   "cell_type": "code",
   "source": [
    "# Formatter pour afficher les valeurs en CHF\n",
    "def chf_format(x, pos):\n",
    "    if x >= 1_000_000:\n",
    "        return f'{x/1_000_000:.1f} M CHF'\n",
    "    elif x >= 1_000:\n",
    "        return f'{x/1_000:.0f} k CHF'\n",
    "    else:\n",
    "        return f'{x:.0f} CHF'\n",
    "\n",
    "chf_formatter = FuncFormatter(chf_format)"
   ],
   "id": "9d285bb922a2878d",
   "outputs": [],
   "execution_count": 3
  },
  {
   "metadata": {},
   "cell_type": "markdown",
   "source": [
    "## Objectif de l'analyse\n",
    "\n",
    "Dans ce notebook, nous allons étudier l'impact des rendements historiques réels du S&P 500 sur notre planification retraite, au lieu d'utiliser un rendement constant de 10% comme dans notre modèle initial.\n",
    "\n",
    "Les questions que nous allons explorer:\n",
    "1. Comment les fluctuations réelles des marchés affectent-elles le capital final?\n",
    "2. Quel serait l'investissement initial nécessaire avec des rendements historiques?\n",
    "3. Comment la volatilité des marchés influence-t-elle les différentes stratégies d'investissement?"
   ],
   "id": "85eed56f17b9f12c"
  },
  {
   "metadata": {},
   "cell_type": "code",
   "outputs": [],
   "execution_count": null,
   "source": "",
   "id": "64217d75597c3d49"
  }
 ],
 "metadata": {
  "kernelspec": {
   "display_name": "Python 3",
   "language": "python",
   "name": "python3"
  },
  "language_info": {
   "codemirror_mode": {
    "name": "ipython",
    "version": 2
   },
   "file_extension": ".py",
   "mimetype": "text/x-python",
   "name": "python",
   "nbconvert_exporter": "python",
   "pygments_lexer": "ipython2",
   "version": "2.7.6"
  }
 },
 "nbformat": 4,
 "nbformat_minor": 5
}
